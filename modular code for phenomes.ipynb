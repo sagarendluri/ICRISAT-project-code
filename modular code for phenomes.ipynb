{
 "cells": [
  {
   "cell_type": "code",
   "execution_count": 106,
   "metadata": {},
   "outputs": [],
   "source": [
    "import sys\n",
    "import scipy\n",
    "import numpy as np\n",
    "import matplotlib\n",
    "import pandas as np\n",
    "import sklearn\n",
    "\n",
    "from pandas.plotting import scatter_matrix\n",
    "from matplotlib import pyplot\n",
    "from sklearn.model_selection import train_test_split\n",
    "from sklearn.model_selection import cross_val_score\n",
    "from sklearn.model_selection import StratifiedKFold\n",
    "from sklearn.metrics import classification_report\n",
    "from sklearn.metrics import confusion_matrix\n",
    "from sklearn.metrics import accuracy_score\n",
    "from sklearn.linear_model import LogisticRegression\n",
    "from sklearn.tree import DecisionTreeClassifier\n",
    "from sklearn.neighbors import KNeighborsClassifier\n",
    "from sklearn.discriminant_analysis import LinearDiscriminantAnalysis\n",
    "from sklearn.naive_bayes import GaussianNB\n",
    "from sklearn.svm import SVC\n",
    "from sklearn import model_selection\n",
    "from sklearn.ensemble import RandomForestClassifier\n",
    "\n",
    "from sklearn.ensemble import RandomForestRegressor"
   ]
  },
  {
   "cell_type": "code",
   "execution_count": 123,
   "metadata": {
    "scrolled": false
   },
   "outputs": [
    {
     "name": "stdout",
     "output_type": "stream",
     "text": [
      "       100SDW_EIARRF  100SDW_EIARRF.1  100SDW_EURF  100SDW_EURF.1  \\\n",
      "count     249.000000       249.000000   249.000000     249.000000   \n",
      "mean       18.314886        18.489098    17.568669      19.381866   \n",
      "std         5.906638         6.153491     5.905391       6.170271   \n",
      "min        10.101458         9.844088    10.157954       8.459595   \n",
      "25%        14.035293        14.119981    13.230202      14.727596   \n",
      "50%        17.267670        17.915437    16.113389      17.674492   \n",
      "75%        19.426185        18.877466    19.611026      23.474732   \n",
      "max        41.382036        41.084791    44.189014      41.623869   \n",
      "\n",
      "       100SDW_KANRF  100SDW_KANHT  100SDW_PATRF  100SDW_PATRF.1  \\\n",
      "count    249.000000    249.000000    249.000000      249.000000   \n",
      "mean      18.425410     19.509893     17.641863       17.824103   \n",
      "std        6.247799      4.446808      5.998521        5.917746   \n",
      "min        7.186776      8.842271      9.765099       10.019711   \n",
      "25%       13.517817     16.455426     13.234430       13.560355   \n",
      "50%       16.904187     19.003024     17.095012       16.857205   \n",
      "75%       20.634103     21.384298     18.466915       18.503612   \n",
      "max       38.989214     39.557925     39.674263       42.463675   \n",
      "\n",
      "       100SDW_PATRF.2  100SDW_PATIR  100SDW_PATHT  \n",
      "count      249.000000    249.000000    249.000000  \n",
      "mean        15.486515     17.673975     13.766018  \n",
      "std          4.990282      6.048237      4.942343  \n",
      "min          8.898953      9.381249      6.128450  \n",
      "25%         11.802543     13.102106     10.321684  \n",
      "50%         15.032928     17.312551     12.115683  \n",
      "75%         15.968470     18.683393     15.675863  \n",
      "max         36.467972     49.527346     35.634395  \n",
      "Train_x Shape ::  (199, 9)\n",
      "Train_y Shape ::  (199,)\n",
      "Test_x Shape ::  (50, 9)\n",
      "Test_y Shape ::  (50,)\n",
      "Actual outcome :: 11.49540646 and Predicted outcome :: 10.431880273800001\n",
      "Actual outcome :: 22.20375035 and Predicted outcome :: 24.514993116\n",
      "Actual outcome :: 17.56313448 and Predicted outcome :: 14.165880385999998\n",
      "Actual outcome :: 8.826208236 and Predicted outcome :: 13.348235746\n",
      "Actual outcome :: 12.04286213 and Predicted outcome :: 11.891362011999998\n",
      "Actual outcome :: 14.16594432 and Predicted outcome :: 13.503668706\n",
      "Actual outcome :: 8.98427798 and Predicted outcome :: 11.428655960399999\n",
      "Actual outcome :: 18.21211209 and Predicted outcome :: 15.50074433\n"
     ]
    }
   ],
   "source": [
    "from sklearn.ensemble import RandomForestRegressor\n",
    "\n",
    "df = r\"C:\\\" \n",
    "#for col in df:\n",
    "   # print(col)\n",
    "    \n",
    "import pandas as pd\n",
    "\n",
    "\n",
    "def read_data(path):\n",
    "    dataset = pd.read_csv(path)\n",
    "    #data=data.fillna(data.mean())\n",
    "    return dataset\n",
    "def fillna(dataset):\n",
    "    return dataset.fillna(dataset.mean())\n",
    "def cols(dataset):\n",
    "    \n",
    "    return dataset.columns\n",
    "\n",
    "def split_df(dataset,test_percentage, feature, target):\n",
    "    \n",
    "    X_train, X_test, Y_train, Y_test = model_selection.train_test_split(\n",
    "                                       dataset[feature], dataset[target],\n",
    "                                                        test_size=test_percentage)\n",
    "  \n",
    "    return X_train, X_test, Y_train, Y_test\n",
    "\n",
    "def random_forest_Regressor(features, target):\n",
    "    \n",
    "    clf =  RandomForestRegressor(algorithm='brute')\n",
    "    clf.fit(features, target)\n",
    "    return clf\n",
    "def df_statistics(dataset):\n",
    "    print(dataset.describe())\n",
    "    \n",
    "    \n",
    "    \n",
    "def rmse(predictions, targets):\n",
    "    return np.sqrt(((predictions - targets) ** 2).mean())\n",
    "\n",
    "def main():\n",
    "\n",
    "    dataset = read_data(df)\n",
    "\n",
    "    #Y= df['Outcome']\n",
    "    # Get basic statistics of the loaded dataset\n",
    "    df_statistics(dataset)\n",
    "    cols(dataset)\n",
    " \n",
    "    # Filter missing values\n",
    "    train_x, test_x, train_y, test_y = split_df(dataset, 0.20, columns[1:-1], columns[-1])\n",
    " \n",
    "    # Train and Test dataset size details\n",
    "    print(\"Train_x Shape :: \", train_x.shape)\n",
    "    print(\"Train_y Shape :: \", train_y.shape)\n",
    "    print(\"Test_x Shape :: \", test_x.shape)\n",
    "    print(\"Test_y Shape :: \", test_y.shape)\n",
    "    # Create random forest classifier instance\n",
    "    trained_model = random_forest_Regressor(train_x, train_y)\n",
    "    print(\"Trained model :: \", trained_model)\n",
    "    trained_model = random_forest_classifier(train_x, train_y)\n",
    "    print \"Trained model :: \", trained_model\n",
    "    print(\"Train Accuracy :: \", accuracy_score(train_y, trained_model.predict(train_x)))\n",
    "    print(\"Test Accuracy  :: \", accuracy_score(test_y, predictions))\n",
    "    print(\" Confusion matrix \", confusion_matrix(test_y, predictions)) \n",
    "    predictions = trained_model.predict(test_x)\n",
    "    for i in range(0,8):\n",
    "        print(\"Actual outcome :: {} and Predicted outcome :: {}\"  . format(list(test_y)[i], predictions[i]))\n",
    "\n",
    "if __name__ == \"__main__\":\n",
    "    main()\n",
    " "
   ]
  },
  {
   "cell_type": "code",
   "execution_count": null,
   "metadata": {},
   "outputs": [],
   "source": []
  },
  {
   "cell_type": "code",
   "execution_count": null,
   "metadata": {},
   "outputs": [],
   "source": []
  },
  {
   "cell_type": "code",
   "execution_count": null,
   "metadata": {},
   "outputs": [],
   "source": []
  },
  {
   "cell_type": "code",
   "execution_count": null,
   "metadata": {},
   "outputs": [],
   "source": []
  },
  {
   "cell_type": "code",
   "execution_count": null,
   "metadata": {},
   "outputs": [],
   "source": []
  },
  {
   "cell_type": "code",
   "execution_count": null,
   "metadata": {},
   "outputs": [],
   "source": []
  },
  {
   "cell_type": "code",
   "execution_count": null,
   "metadata": {},
   "outputs": [],
   "source": []
  },
  {
   "cell_type": "code",
   "execution_count": null,
   "metadata": {},
   "outputs": [],
   "source": []
  },
  {
   "cell_type": "code",
   "execution_count": null,
   "metadata": {},
   "outputs": [],
   "source": []
  },
  {
   "cell_type": "code",
   "execution_count": null,
   "metadata": {},
   "outputs": [],
   "source": []
  },
  {
   "cell_type": "code",
   "execution_count": null,
   "metadata": {},
   "outputs": [],
   "source": []
  },
  {
   "cell_type": "code",
   "execution_count": null,
   "metadata": {},
   "outputs": [],
   "source": []
  },
  {
   "cell_type": "code",
   "execution_count": null,
   "metadata": {},
   "outputs": [],
   "source": []
  }
 ],
 "metadata": {
  "kernelspec": {
   "display_name": "Python 3",
   "language": "python",
   "name": "python3"
  },
  "language_info": {
   "codemirror_mode": {
    "name": "ipython",
    "version": 3
   },
   "file_extension": ".py",
   "mimetype": "text/x-python",
   "name": "python",
   "nbconvert_exporter": "python",
   "pygments_lexer": "ipython3",
   "version": "3.7.7"
  }
 },
 "nbformat": 4,
 "nbformat_minor": 2
}
